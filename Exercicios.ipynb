{
  "nbformat": 4,
  "nbformat_minor": 0,
  "metadata": {
    "colab": {
      "name": "Exercicios.ipynb",
      "provenance": [],
      "collapsed_sections": [],
      "authorship_tag": "ABX9TyN2x5HRvqzKvTGjo54OilEr",
      "include_colab_link": true
    },
    "kernelspec": {
      "name": "python3",
      "display_name": "Python 3"
    }
  },
  "cells": [
    {
      "cell_type": "markdown",
      "metadata": {
        "id": "view-in-github",
        "colab_type": "text"
      },
      "source": [
        "<a href=\"https://colab.research.google.com/github/cl088723/DevOpsLab-HelloWorld/blob/master/Exercicios.ipynb\" target=\"_parent\"><img src=\"https://colab.research.google.com/assets/colab-badge.svg\" alt=\"Open In Colab\"/></a>"
      ]
    },
    {
      "cell_type": "code",
      "metadata": {
        "id": "7m4HBVe692un"
      },
      "source": [
        ""
      ],
      "execution_count": null,
      "outputs": []
    },
    {
      "cell_type": "code",
      "metadata": {
        "id": "oleLRyYLp74w"
      },
      "source": [
        ""
      ],
      "execution_count": null,
      "outputs": []
    },
    {
      "cell_type": "markdown",
      "metadata": {
        "id": "3chFYXWt96u5"
      },
      "source": [
        "## 1 - Faça um Programa que mostre a mensagem \"Alo mundo\" na tela.\n"
      ]
    },
    {
      "cell_type": "code",
      "metadata": {
        "colab": {
          "base_uri": "https://localhost:8080/"
        },
        "id": "UMGJ0rZA9-vK",
        "outputId": "d51fd342-734a-41e7-b254-bebb3fe67970"
      },
      "source": [
        "print ('Ola Mundo')"
      ],
      "execution_count": null,
      "outputs": [
        {
          "output_type": "stream",
          "text": [
            "Ola Mundo\n"
          ],
          "name": "stdout"
        }
      ]
    },
    {
      "cell_type": "markdown",
      "metadata": {
        "id": "74pOdae_-V52"
      },
      "source": [
        "## 2 - Faça um Programa que peça um número e então mostre a mensagem O número informado foi [número]."
      ]
    },
    {
      "cell_type": "code",
      "metadata": {
        "colab": {
          "base_uri": "https://localhost:8080/",
          "height": 197
        },
        "id": "sD1AAMjuA4eN",
        "outputId": "6e02a406-b66b-4983-8320-c268cb7c7cdf"
      },
      "source": [
        "print(\"Quiz perguntas e respostas?\" )\n",
        " \n",
        "nome = input(\"Qual é o seu nome?\" )\n",
        "print(\"muito prazer \", nome)\n",
        " \n",
        "idade = input(\"Qual é sua idade?\" )\n",
        "print(\"otimo vamos começar\", nome)\n",
        " \n",
        "print(\"Vamos as Perguntas:\")\n",
        " \n",
        "p1 = (\"1) Quem descobriu o Brasil?\" )\n",
        " \n",
        "if p1 = (input(\"Cabral:\")\n",
        "print(\"p1\" = 'Acertou: {p1}')"
      ],
      "execution_count": null,
      "outputs": [
        {
          "output_type": "error",
          "ename": "SyntaxError",
          "evalue": "ignored",
          "traceback": [
            "\u001b[0;36m  File \u001b[0;32m\"<ipython-input-8-b6f9c9f0547c>\"\u001b[0;36m, line \u001b[0;32m13\u001b[0m\n\u001b[0;31m    if p1 = (input(\"Cabral:\")\u001b[0m\n\u001b[0m          ^\u001b[0m\n\u001b[0;31mSyntaxError\u001b[0m\u001b[0;31m:\u001b[0m invalid syntax\n"
          ]
        }
      ]
    },
    {
      "cell_type": "code",
      "metadata": {
        "colab": {
          "base_uri": "https://localhost:8080/"
        },
        "id": "qrzXi3ezeXf0",
        "outputId": "387a31f9-a172-45ce-cbae-04b38cd00006"
      },
      "source": [
        "idade = 65\n",
        "\n",
        "if idade < 18: \n",
        "  print(f'menor de idade: {Idade}')\n",
        "  print('acabou o if')\n",
        "elif idade >= 65:\n",
        "  print (f'pessoa idosa: {Idade}')\n",
        "else:\n",
        "  print(f'maior de idade: {Idade}')\n"
      ],
      "execution_count": null,
      "outputs": [
        {
          "output_type": "stream",
          "text": [
            "pessoa idosa: 18\n"
          ],
          "name": "stdout"
        }
      ]
    },
    {
      "cell_type": "code",
      "metadata": {
        "colab": {
          "base_uri": "https://localhost:8080/"
        },
        "id": "mbnHj-wIbsNh",
        "outputId": "387a31f9-a172-45ce-cbae-04b38cd00006"
      },
      "source": [
        "idade = 65\n",
        "\n",
        "if idade < 18: \n",
        "  print(f'menor de idade: {Idade}')\n",
        "  print('acabou o if')\n",
        "elif idade >= 65:\n",
        "  print (f'pessoa idosa: {Idade}')\n",
        "else:\n",
        "  print(f'maior de idade: {Idade}')\n"
      ],
      "execution_count": null,
      "outputs": [
        {
          "output_type": "stream",
          "text": [
            "pessoa idosa: 18\n"
          ],
          "name": "stdout"
        }
      ]
    },
    {
      "cell_type": "markdown",
      "metadata": {
        "id": "cDyIzoFxBN-9"
      },
      "source": [
        "## 3 - Faça um Programa que peça dois números e imprima a soma."
      ]
    },
    {
      "cell_type": "code",
      "metadata": {
        "colab": {
          "base_uri": "https://localhost:8080/"
        },
        "id": "jzf-ax-DCDry",
        "outputId": "c3c91c27-7d6a-41c7-d362-b580663fc557"
      },
      "source": [
        "a= float(input(\"Digite o primeiro numero: \"))\n",
        "b= float(input(\"Digite o segundo numero: \"))\n",
        "\n",
        "print(\"A soma de\", a, \"+\", b, \"eh igual a\", a + b)"
      ],
      "execution_count": null,
      "outputs": [
        {
          "output_type": "stream",
          "text": [
            "Digite o primeiro numero: 44\n",
            "Digite o segundo numero: 44\n",
            "A soma de 44.0 + 44.0 eh igual a 88.0\n"
          ],
          "name": "stdout"
        }
      ]
    },
    {
      "cell_type": "code",
      "metadata": {
        "id": "VLJkZJ9yDIXK"
      },
      "source": [
        ""
      ],
      "execution_count": null,
      "outputs": []
    },
    {
      "cell_type": "markdown",
      "metadata": {
        "id": "81b5rxFkDLXY"
      },
      "source": [
        "## 4 - Faça um Programa que peça as 4 notas bimestrais e mostre a média."
      ]
    },
    {
      "cell_type": "code",
      "metadata": {
        "colab": {
          "base_uri": "https://localhost:8080/"
        },
        "id": "em70g-MLDN65",
        "outputId": "8f99b32e-3f92-4417-9fc7-1e7b7f197f4a"
      },
      "source": [
        "n1 = float(input(\"Nota 1: \"))\n",
        "n2 = float(input(\"Nota 2: \"))\n",
        "n3 = float(input(\"Nota 3: \"))\n",
        "n4 = float(input(\"Nota 4: \"))\n",
        "\n",
        "media = (n1 + n2 + n3 + n4) / 4\n",
        "\n",
        "print(\"A media do aluno sera:\", media)\n"
      ],
      "execution_count": null,
      "outputs": [
        {
          "output_type": "stream",
          "text": [
            "Nota 1: 6\n",
            "Nota 2: 7\n",
            "Nota 3: 8\n",
            "Nota 4: 5\n",
            "A media do aluno sera: 6.5\n"
          ],
          "name": "stdout"
        }
      ]
    },
    {
      "cell_type": "markdown",
      "metadata": {
        "id": "ClCVgE9SEp5H"
      },
      "source": [
        "## 5 - Faça um Programa que converta metros para centímetros.\n"
      ]
    },
    {
      "cell_type": "code",
      "metadata": {
        "colab": {
          "base_uri": "https://localhost:8080/"
        },
        "id": "RS35aI9hEwFA",
        "outputId": "e0b7e074-fbe4-4df5-b1ca-0456fc540952"
      },
      "source": [
        "metros = float(input(\"Digite a quantidade em metros: \"))\n",
        "centimetros = metros * 100\n",
        "\n",
        "print(metros, \"metros é igual a\", centimetros, \"centimetros\")"
      ],
      "execution_count": null,
      "outputs": [
        {
          "output_type": "stream",
          "text": [
            "Digite a quantidade em metros: 45\n",
            "45.0 metros é igual a 4500.0 centimetros\n"
          ],
          "name": "stdout"
        }
      ]
    },
    {
      "cell_type": "markdown",
      "metadata": {
        "id": "mohOIeafFmoG"
      },
      "source": [
        "## 6 - Faça um Programa que peça o raio de um círculo, calcule e mostre sua área."
      ]
    },
    {
      "cell_type": "code",
      "metadata": {
        "colab": {
          "base_uri": "https://localhost:8080/"
        },
        "id": "4aSyoNAjFtCN",
        "outputId": "5c188166-aa3a-448d-d746-f26c4916de0b"
      },
      "source": [
        "raio = float(input(\"Digite o tamanho do Raio do circulo: \"))\n",
        "area = 3.14 * raio\n",
        "\n",
        "print(\"A area do circulo e:\", area)\n",
        "\n"
      ],
      "execution_count": null,
      "outputs": [
        {
          "output_type": "stream",
          "text": [
            "Digite o tamanho do Raio do circulo: 67\n",
            "A area do circulo e: 210.38\n"
          ],
          "name": "stdout"
        }
      ]
    },
    {
      "cell_type": "markdown",
      "metadata": {
        "id": "c4_h5yq5AYnS"
      },
      "source": [
        "## 7 - Faça um Programa que calcule a área de um quadrado, em seguida mostre o dobro desta área para o usuário."
      ]
    },
    {
      "cell_type": "code",
      "metadata": {
        "colab": {
          "base_uri": "https://localhost:8080/"
        },
        "id": "dQIaKjhBAc1P",
        "outputId": "c4a5b283-d55e-4dd5-c3d3-7ae0a15cbaeb"
      },
      "source": [
        "lados = float(input(\"Ditige no tamanho dos lados do quadrado: \"))\n",
        "area = lados * lados\n",
        "dobro = lados * 2\n",
        "print(\"A área do quadrado é \", area, \" e o dobro dela é \", dobro)\n",
        "\n"
      ],
      "execution_count": null,
      "outputs": [
        {
          "output_type": "stream",
          "text": [
            "Ditige no tamanho dos lados do quadrado: 4\n",
            "A área do quadrado é  16.0  e o dobro dela é  8.0\n"
          ],
          "name": "stdout"
        }
      ]
    },
    {
      "cell_type": "markdown",
      "metadata": {
        "id": "qlEDDCX8B5KE"
      },
      "source": [
        "8 - Faça um Programa que pergunte quanto você ganha por hora e o número de horas trabalhadas no mês. Calcule e mostre o total do seu salário no referido mês.\n"
      ]
    },
    {
      "cell_type": "code",
      "metadata": {
        "colab": {
          "base_uri": "https://localhost:8080/"
        },
        "id": "k8L3WFaKCTN8",
        "outputId": "49cb4676-2113-4e97-d052-265202611904"
      },
      "source": [
        "salario = float(input(\"Quanto voce ganha por hora? \"))\n",
        "horas = float(input(\"quantas horas trabalhadas no mês? \"))\n",
        "valor = salario * horas\n",
        "\n",
        "print(\"O seu salario mensal é:\", valor)\n",
        "\n"
      ],
      "execution_count": null,
      "outputs": [
        {
          "output_type": "stream",
          "text": [
            "Quanto voce ganha por hora? 12.50\n",
            "quantas horas trabalhadas no mês? 180\n",
            "O seu salario mensal é: 2250.0\n"
          ],
          "name": "stdout"
        }
      ]
    },
    {
      "cell_type": "markdown",
      "metadata": {
        "id": "H67a_dYJE8HO"
      },
      "source": [
        "## 8 - Faça um Programa que peça a temperatura em graus Fahrenheit, transforme e mostre a temperatura em graus Celsius.\n",
        "C = 5 * ((F-32) / 9)."
      ]
    },
    {
      "cell_type": "code",
      "metadata": {
        "colab": {
          "base_uri": "https://localhost:8080/"
        },
        "id": "CNPSUEy-FGaI",
        "outputId": "cab66f8a-fe1c-4447-ef7d-5f043b21b3c2"
      },
      "source": [
        "fahrenheit = float(input(\"Digite a temperatura em graus: \"))\n",
        "celsius = (fahrenheit - 32) / 9\n",
        "\n",
        "print(fahrenheit, \" graus Fahrenheit são iguais a \", celsius, \" graus celsius\")\n"
      ],
      "execution_count": null,
      "outputs": [
        {
          "output_type": "stream",
          "text": [
            "Digite a temperatura em graus: 66688\n",
            "66688.0  graus Fahrenheit são iguais a  7406.222222222223  graus celsius\n"
          ],
          "name": "stdout"
        }
      ]
    },
    {
      "cell_type": "markdown",
      "metadata": {
        "id": "vKUVYQSdPvA7"
      },
      "source": [
        "## 10 - Faça um Programa que peça a temperatura em graus Celsius, transforme e mostre em graus Fahrenheit.\n"
      ]
    },
    {
      "cell_type": "code",
      "metadata": {
        "colab": {
          "base_uri": "https://localhost:8080/"
        },
        "id": "Q4zRmXV1P1qY",
        "outputId": "dcaf024c-0efb-451e-87fc-12809a663f1f"
      },
      "source": [
        "celsius = float(input(\"Digite a temperatura em Celsius: \"))\n",
        "\n",
        "fahrenheit = (celsius * 9 / 5) + 32\n",
        "\n",
        "print(celsius, \" graus celsius são iguais a \", fahrenheit, \" graus fahrenheit\")\n"
      ],
      "execution_count": null,
      "outputs": [
        {
          "output_type": "stream",
          "text": [
            "Digite a temperatura em Celsius: 35\n",
            "35.0  graus celsius são iguais a  95.0  graus fahrenheit\n"
          ],
          "name": "stdout"
        }
      ]
    },
    {
      "cell_type": "markdown",
      "metadata": {
        "id": "rywEkFLfR3aB"
      },
      "source": [
        "## 11 - Faça um Programa que peça 2 números inteiros e um número real. Calcule e mostre:\n",
        "a - o produto do dobro do primeiro com metade do segundo .\n",
        "b - a soma do triplo do primeiro com o terceiro.\n",
        "c - o terceiro elevado ao cubo."
      ]
    },
    {
      "cell_type": "code",
      "metadata": {
        "colab": {
          "base_uri": "https://localhost:8080/"
        },
        "id": "gbnw5NVPR6ex",
        "outputId": "247366ed-c1a3-4ea0-f62f-32d7f73ed7bd"
      },
      "source": [
        "n1 = int(input(\"Digite o primeiro numero: \"))\n",
        "n2 = int(input(\"Digite o primeiro segundo: \"))\n",
        "n3 = float(input(\"Digite um numero real: \"))\n",
        "\n",
        "\n",
        "\n",
        "a = (n1 * 2 + n2 / 2 )\n",
        "\n",
        "b = (n1 * 3) + n3\n",
        "\n",
        "c = (n3 * n3 * n3)\n",
        "\n",
        "print(\"a : \", a, \"\\nb : \", b, \"\\nc : \", c)"
      ],
      "execution_count": null,
      "outputs": [
        {
          "output_type": "stream",
          "text": [
            "Digite o primeiro numero: 2\n",
            "Digite o primeiro segundo: 3\n",
            "Digite um numero real: 5.2\n",
            "a :  5.5 \n",
            "b :  11.2 \n",
            "c :  140.60800000000003\n"
          ],
          "name": "stdout"
        }
      ]
    },
    {
      "cell_type": "code",
      "metadata": {
        "colab": {
          "base_uri": "https://localhost:8080/"
        },
        "id": "Ze1VS2_yJh_-",
        "outputId": "57f8c9e7-e4a7-4953-e757-b5b94fd10e78"
      },
      "source": [
        "inteiro1 = int(input(\"Digite um número inteiro: \"))\n",
        "inteiro2 = int(input(\"Digite outro número inteiro: \"))\n",
        "real = float(input(\"Digite um número real\"))\n",
        "\n",
        "a = (inteiro1 * 2) + (inteiro2 / 2)\n",
        "b = (inteiro1 * 3) + real\n",
        "c = real ** 3\n",
        "\n",
        "print(\"a : \", a, \"\\nb : \", b, \"\\nc : \", c)"
      ],
      "execution_count": null,
      "outputs": [
        {
          "output_type": "stream",
          "text": [
            "Digite um número inteiro: 2\n",
            "Digite outro número inteiro: 3\n",
            "Digite um número real5.2\n",
            "a :  5.5 \n",
            "b :  11.2 \n",
            "c :  140.608\n"
          ],
          "name": "stdout"
        }
      ]
    },
    {
      "cell_type": "code",
      "metadata": {
        "id": "0heaVW68CruQ"
      },
      "source": [
        ""
      ],
      "execution_count": null,
      "outputs": []
    },
    {
      "cell_type": "markdown",
      "metadata": {
        "id": "fjkjS6qB0IfI"
      },
      "source": [
        "# 13 - Tendo como dados de entrada a altura de uma pessoa, construa um algoritmo que calcule seu peso ideal, usando a seguinte fórmula: (72.7*altura) - 58\n"
      ]
    },
    {
      "cell_type": "code",
      "metadata": {
        "colab": {
          "base_uri": "https://localhost:8080/"
        },
        "id": "CCCG0Izb0RrQ",
        "outputId": "973ba784-bc32-49c1-bb32-cfc13079507d"
      },
      "source": [
        "altura = float(input(\"Digite sua altura: \"))\n",
        "pa = (72.7 * altura) - 58\n",
        "pb = (62.1 * altura) - 44.7\n",
        "print(\"Seu peso ideal de acordo com sua altura para um homem e: \", pa)\n",
        "print(\"Seu peso ideal de acordo com sua altura para uma mulher e: \", pb)"
      ],
      "execution_count": null,
      "outputs": [
        {
          "output_type": "stream",
          "text": [
            "Digite sua altura: 1.93\n",
            "Seu peso ideal de acordo com sua altura para um homem e:  82.311\n",
            "Seu peso ideal de acordo com sua altura para uma mulher e:  75.15299999999999\n"
          ],
          "name": "stdout"
        }
      ]
    },
    {
      "cell_type": "code",
      "metadata": {
        "colab": {
          "base_uri": "https://localhost:8080/"
        },
        "id": "DpXvJovW2oDr",
        "outputId": "318f8b97-7a2f-495d-ac48-6ee89f7785a1"
      },
      "source": [
        "altura = float(input(\"Digite a altura: \"))\n",
        "homem = (72.7 * altura) - 58\n",
        "mulher = (62.1 * altura) - 44.7\n",
        "\n",
        "print(\"Homem: \", homem, \"\\nMulher: \", mulher)"
      ],
      "execution_count": null,
      "outputs": [
        {
          "output_type": "stream",
          "text": [
            "Digite a altura: 1.93\n",
            "Homem:  82.311 \n",
            "Mulher:  75.15299999999999\n"
          ],
          "name": "stdout"
        }
      ]
    },
    {
      "cell_type": "markdown",
      "metadata": {
        "id": "WvNxFdF62yTk"
      },
      "source": [
        "## 14 - João Papo-de-Pescador, homem de bem, comprou um microcomputador para controlar o rendimento diário de seu trabalho. Toda vez que ele traz um peso de peixes maior que o estabelecido pelo regulamento de pesca do estado de São Paulo (50 quilos) deve pagar uma multa de R$ 4,00 por quilo excedente. João precisa que você faça um programa que leia a variável peso (peso de peixes) e calcule o excesso. Gravar na variável excesso a quantidade de quilos além do limite e na variável multa o valor da multa que João deverá pagar. Imprima os dados do programa com as mensagens adequadas.\n",
        "\n"
      ]
    },
    {
      "cell_type": "code",
      "metadata": {
        "colab": {
          "base_uri": "https://localhost:8080/"
        },
        "id": "vCs5Ptij263b",
        "outputId": "3e6aa839-aa7e-48e0-aea1-92af3f6031e5"
      },
      "source": [
        "peso = float(input(\"Digite o peso do peixe: \"))\n",
        "excesso = peso - 50\n",
        "multa = excesso * 4\n",
        "\n",
        "if excesso < 1: print(\"João não terá que pagar multa\")\n",
        "else: print(\"A multa que joão terá que pagar será de: \", multa)"
      ],
      "execution_count": null,
      "outputs": [
        {
          "output_type": "stream",
          "text": [
            "Digite o peso do peixe: 50\n",
            "João não terá que pagar multa\n"
          ],
          "name": "stdout"
        }
      ]
    },
    {
      "cell_type": "markdown",
      "metadata": {
        "id": "hi2V07o16yNS"
      },
      "source": [
        "## 15 - Faça um Programa que pergunte quanto você ganha por hora e o número de horas trabalhadas no mês. Calcule e mostre o total do seu salário no referido mês, sabendo-se que são descontados 11% para o Imposto de Renda, 8% para o INSS e 5% para o sindicato, faça um programa que nos dê:\n",
        "a - salário bruto.\n",
        "b - quanto pagou ao INSS.\n",
        "c - quanto pagou ao sindicato.\n",
        "d - o salário líquido.\n",
        "e - calcule os descontos e o salário líquido, conforme a tabela abaixo:\n",
        "+ Salário Bruto : R$\n",
        "- IR (11%) : R$\n",
        "- INSS (8%) : R$\n",
        "- Sindicato ( 5%) : R$\n",
        "= Salário Liquido : R$"
      ]
    },
    {
      "cell_type": "code",
      "metadata": {
        "colab": {
          "base_uri": "https://localhost:8080/"
        },
        "id": "CeaaVJr77Oqd",
        "outputId": "2065f4be-aa23-4c43-f533-5c3d887e0a60"
      },
      "source": [
        "valor = float(input(\"Digite quanto voce ganha por hora: \"))\n",
        "horas = int(input(\"Digite a quantidade de horas trabalhadas no mes: \"))\n",
        "salario = (valor * horas)\n",
        "\n",
        "ir = salario * 0.11\n",
        "inss = salario * 0.08\n",
        "sindicato = salario * 0.05\n",
        "salario_liquido = salario - ir - inss - sindicato\n",
        "\n",
        "print(\"Salário bruto: \", salario, \"\\nIR: \", ir, \"\\nINSS: \", inss, \"\\nSindicato \", sindicato, \"\\nSalário Liquido: \", salario_liquido)\n"
      ],
      "execution_count": null,
      "outputs": [
        {
          "output_type": "stream",
          "text": [
            "Digite quanto voce ganha por hora: 22\n",
            "Digite a quantidade de horas trabalhadas no mes: 180\n",
            "Salário bruto:  3960.0 \n",
            "IR:  435.6 \n",
            "INSS:  316.8 \n",
            "Sindicato  198.0 \n",
            "Salário Liquido:  3009.6\n"
          ],
          "name": "stdout"
        }
      ]
    },
    {
      "cell_type": "code",
      "metadata": {
        "id": "gpl8Nsjq1GSe"
      },
      "source": [
        ""
      ],
      "execution_count": null,
      "outputs": []
    },
    {
      "cell_type": "markdown",
      "metadata": {
        "id": "SEoMo-SY-Bk8"
      },
      "source": [
        "## 16 - Faça um programa para uma loja de tintas. O programa deverá pedir o tamanho em metros quadrados da área a ser pintada. Considere que a cobertura da tinta é de 1 litro para cada 3 metros quadrados e que a tinta é vendida em latas de 18 litros, que custam R$ 80,00. Informe ao usuário a quantidades de latas de tinta a serem compradas e o preço total."
      ]
    },
    {
      "cell_type": "code",
      "metadata": {
        "colab": {
          "base_uri": "https://localhost:8080/"
        },
        "id": "azcFnnMN-F0p",
        "outputId": "659fd4a5-8cf4-411e-a067-58c4577afaff"
      },
      "source": [
        "from math import ceil\n",
        "tamanho = float(input('Digite o tamanho: '))\n",
        "litros = tamanho / 3\n",
        "lata = ceil(litros / 18)\n",
        "preco = lata * 80\n",
        "\n",
        "print('qnt latas para comprar: ', lata)\n",
        "print('Preço: ', preco)"
      ],
      "execution_count": null,
      "outputs": [
        {
          "output_type": "stream",
          "text": [
            "Digite o tamanho: 33.5\n",
            "qnt latas para comprar:  1\n",
            "Preço:  80\n"
          ],
          "name": "stdout"
        }
      ]
    },
    {
      "cell_type": "markdown",
      "metadata": {
        "id": "F8MgNF5WAf9w"
      },
      "source": [
        "## 17 - Faça um Programa para uma loja de tintas. O programa deverá pedir o tamanho em metros quadrados da área a ser pintada. Considere que a cobertura da tinta é de 1 litro para cada 6 metros quadrados e que a tinta é vendida em latas de 18 litros, que custam R$ 80,00 ou em galões de 3,6 litros, que custam R$ 25,00.\n",
        "Informe ao usuário as quantidades de tinta a serem compradas e os respectivos preços em 3 situações:\n",
        "comprar apenas latas de 18 litros;\n",
        "comprar apenas galões de 3,6 litros;\n",
        "misturar latas e galões, de forma que o desperdício de tinta seja menor. Acrescente 10% de folga e sempre arredonde os valores para cima, isto é, considere latas cheias."
      ]
    },
    {
      "cell_type": "code",
      "metadata": {
        "colab": {
          "base_uri": "https://localhost:8080/"
        },
        "id": "q0TA9JUsAkiA",
        "outputId": "d965369b-a28a-4afa-ec25-ddf5e3ef934f"
      },
      "source": [
        "from math import ceil, floor\n",
        "tamanho = float(input(\"Tamanho da área a ser pintada: \"))\n",
        "litro = tamanho / 6\n",
        "\n",
        "latas = litro / 18\n",
        "galoes = litro / 3.6\n",
        "latas_arredondado = ceil(latas)\n",
        "galoes_arredondado = ceil(galoes)\n",
        "\n",
        "latas_baixo = floor(latas)\n",
        "latas_subtrair = latas_baixo * 18\n",
        "resto = litro - latas_subtrair\n",
        "galoes_resto = resto / 3.6\n",
        "galoes_resto_arredondado = ceil(galoes_resto)\n",
        "preco_galao_resto = galoes_resto_arredondado * 25\n",
        "preco_lata_baixo = latas_baixo * 80\n",
        "preco_total_misturado = preco_lata_baixo + preco_galao_resto\n",
        "\n",
        "preco_lata = latas_arredondado * 80\n",
        "preco_galao = galoes_arredondado * 25\n",
        "\n",
        "\n",
        "print(\"1: Latas: \", latas_arredondado, \" / Preco: \", preco_lata, \"\\n\")\n",
        "print(\"2: Galão: \", galoes_arredondado, \" / Preco: \", preco_galao, \"\\n\")\n",
        "print(\"3: Latas: \", latas_baixo, \" / Galões: \", galoes_resto_arredondado, \" / Preco: \", preco_total_misturado)"
      ],
      "execution_count": null,
      "outputs": [
        {
          "output_type": "stream",
          "text": [
            "Tamanho da área a ser pintada: 67\n",
            "1: Latas:  1  / Preco:  80 \n",
            "\n",
            "2: Galão:  4  / Preco:  100 \n",
            "\n",
            "3: Latas:  0  / Galões:  4  / Preco:  100\n"
          ],
          "name": "stdout"
        }
      ]
    },
    {
      "cell_type": "markdown",
      "metadata": {
        "id": "zHO0xMBRBFFI"
      },
      "source": [
        "# 18 - Faça um programa que peça o tamanho de um arquivo para download (em MB) e a velocidade de um link de Internet (em Mbps), calcule e informe o tempo aproximado de download do arquivo usando este link (em minutos).\n"
      ]
    },
    {
      "cell_type": "code",
      "metadata": {
        "colab": {
          "base_uri": "https://localhost:8080/"
        },
        "id": "PhBu3ZMhBKka",
        "outputId": "da8b9671-4f5b-4025-c4c5-ac4ee0f8898f"
      },
      "source": [
        "from math import ceil\n",
        "\n",
        "tamanho = float(input(\"Digite o tamanho do arquivo: \"))\n",
        "velocidade = float(input(\"Digite a velocidade da internet: \"))\n",
        "\n",
        "tempo = tamanho / velocidade\n",
        "minutos = ceil(tempo) / 60\n",
        "\n",
        "print(\"O arquivo levará \", minutos, \"minutos para ficar pronto\")"
      ],
      "execution_count": null,
      "outputs": [
        {
          "output_type": "stream",
          "text": [
            "Digite o tamanho do arquivo: 10000\n",
            "Digite a velocidade da internet: 300\n",
            "O arquivo levará  0.5666666666666667 minutos para ficar pronto\n"
          ],
          "name": "stdout"
        }
      ]
    },
    {
      "cell_type": "markdown",
      "metadata": {
        "id": "bwbqOSa2Dc3S"
      },
      "source": [
        "# Exercicios Estrutura De Decisao"
      ]
    },
    {
      "cell_type": "code",
      "metadata": {
        "id": "-CiEs94SDoI2"
      },
      "source": [
        ""
      ],
      "execution_count": null,
      "outputs": []
    },
    {
      "cell_type": "markdown",
      "metadata": {
        "id": "ECiN388jDy2v"
      },
      "source": [
        "## - Faça um Programa que peça dois números e imprima o maior deles."
      ]
    },
    {
      "cell_type": "code",
      "metadata": {
        "colab": {
          "base_uri": "https://localhost:8080/"
        },
        "id": "WbOHVRUtD1QH",
        "outputId": "c31a08a7-82f2-49a6-f78a-5f7eb5918cc6"
      },
      "source": [
        "num1=int( input('Digite o primeiro numero: ') )\n",
        "num2=int( input('Digite o segundo numero: ') )\n",
        "\n",
        "if num1 > num2 :\n",
        "    print('O primeiro, %d, é maior' %num1)\n",
        "else:\n",
        "    if num1 == num2 :\n",
        "        print('Os números são iguais')\n",
        "    else:\n",
        "        print('O segundo, %d, é maior' %num2)"
      ],
      "execution_count": null,
      "outputs": [
        {
          "output_type": "stream",
          "text": [
            "Digite o primeiro numero: 4\n",
            "Digite o segundo numero: 6\n",
            "O segundo, 6, é maior\n"
          ],
          "name": "stdout"
        }
      ]
    },
    {
      "cell_type": "markdown",
      "metadata": {
        "id": "-H2bbpUYELWT"
      },
      "source": [
        "## 2 - Faça um Programa que peça um valor e mostre na tela se o valor é positivo ou negativo.\n"
      ]
    },
    {
      "cell_type": "code",
      "metadata": {
        "id": "z2QFH7EsEN3e"
      },
      "source": [
        "num=int( input('Digite um numero: ') )\n",
        "\n",
        "if num > 0 :\n",
        "    print('Positivo')\n",
        "else:\n",
        "    if num == 0 :\n",
        "        print('Nem positivo nem negativo, é 0')\n",
        "    else:\n",
        "        print('Negativo')"
      ],
      "execution_count": null,
      "outputs": []
    },
    {
      "cell_type": "markdown",
      "metadata": {
        "id": "LPipc6ZVcc7r"
      },
      "source": [
        "## 3 - Faça um Programa que verifique se uma letra digitada é \"F\" ou \"M\". Conforme a letra escrever: F - Feminino, M - Masculino, Sexo Inválido.\n"
      ]
    },
    {
      "cell_type": "code",
      "metadata": {
        "colab": {
          "base_uri": "https://localhost:8080/"
        },
        "id": "eW3ysCGvchXN",
        "outputId": "a6093ab7-92c4-46ac-eb2e-93f2e0386af7"
      },
      "source": [
        "resposta=input('M ou F: ')\n",
        "\n",
        "if resposta == 'M':\n",
        "    print('Masculina')\n",
        "else:\n",
        "    if resposta == 'F':\n",
        "          print('Feminina')\n",
        "    else:\n",
        "        print('Você não digitou M ou F')"
      ],
      "execution_count": 5,
      "outputs": [
        {
          "output_type": "stream",
          "text": [
            "M ou F: M\n",
            "Masculina\n"
          ],
          "name": "stdout"
        }
      ]
    },
    {
      "cell_type": "markdown",
      "metadata": {
        "id": "mTBUg9Cieu1X"
      },
      "source": [
        "## 4 - Faça um Programa que verifique se uma letra digitada é vogal ou consoante.\n"
      ]
    },
    {
      "cell_type": "code",
      "metadata": {
        "colab": {
          "base_uri": "https://localhost:8080/"
        },
        "id": "KMKriFefe9aZ",
        "outputId": "39164b39-f510-49fb-edd6-278cdbf9a95d"
      },
      "source": [
        "resposta=input('vogal ou consoante')\n",
        "\n",
        "if resposta == 'a':\n",
        "  print('Vogal')\n",
        "\n",
        "elif resposta == 'e':\n",
        "  print('Vogal')\n",
        "\n",
        "elif resposta == 'i':\n",
        "  print('Vogal')\n",
        "\n",
        "elif resposta == 'o':\n",
        "  print('Vogal')\n",
        "\n",
        "elif resposta == 'u':\n",
        "  print('Vogal')\n",
        "\n",
        "else:\n",
        "    print('Consoante: ')"
      ],
      "execution_count": 11,
      "outputs": [
        {
          "output_type": "stream",
          "text": [
            "vogal ou consoantey\n",
            "Consoante: \n"
          ],
          "name": "stdout"
        }
      ]
    },
    {
      "cell_type": "markdown",
      "metadata": {
        "id": "yIC-4RqthFKc"
      },
      "source": [
        "## 5 - Faça um programa para a leitura de duas notas parciais de um aluno. O programa deve calcular a média alcançada por aluno e apresentar:\n",
        "\n",
        "a - A mensagem \"Aprovado\", se a média alcançada for maior ou igual a sete;\n",
        "b - A mensagem \"Reprovado\", se a média for menor do que sete;\n",
        "c - A mensagem \"Aprovado com Distinção\", se a média for igual a dez"
      ]
    },
    {
      "cell_type": "code",
      "metadata": {
        "colab": {
          "base_uri": "https://localhost:8080/"
        },
        "id": "c_hA4hh-hH8k",
        "outputId": "dfbc0f5a-c0a5-4130-afdb-4931e6036bb9"
      },
      "source": [
        "n1 = float(input(\"Digite a primeira nota parcial\"))\n",
        "n2 = float(input(\"Digite a segunda nota parcial\"))\n",
        "\n",
        "media = (n1 + n2) / 2\n",
        "\n",
        "if media >= 7:\n",
        "  print(\"Aprovado \", media)\n",
        "\n",
        "elif media < 7:\n",
        "  print(\"Reprovado \", media)\n",
        "\n",
        "if media == 10:\n",
        "    print(\"Aprovado com Distinção\", media)\n"
      ],
      "execution_count": 30,
      "outputs": [
        {
          "output_type": "stream",
          "text": [
            "Digite a primeira nota parcial10\n",
            "Digite a segunda nota parcial10\n",
            "Aprovado  10.0\n",
            "Aprovado com Distinção 10.0\n"
          ],
          "name": "stdout"
        }
      ]
    },
    {
      "cell_type": "code",
      "metadata": {
        "colab": {
          "base_uri": "https://localhost:8080/"
        },
        "id": "cVdioh9Rkjra",
        "outputId": "26931f02-c7ca-46f3-a42d-a1e2da07e7d7"
      },
      "source": [
        "nota1 = int(input('Digite a primeira nota: '))\n",
        "nota2 = int(input('Digite a segunda nota: '))\n",
        "media = (nota1 + nota2)/2\n",
        "if media == 10:\n",
        "    print('Aprovado com Distinção.')\n",
        "elif media >= 7 and media < 10:\n",
        "    print('Aprovado.')\n",
        "else:\n",
        "    print('Reprovado.')"
      ],
      "execution_count": 32,
      "outputs": [
        {
          "output_type": "stream",
          "text": [
            "Digite a primeira nota: 10\n",
            "Digite a segunda nota: 10\n",
            "Aprovado com Distinção.\n"
          ],
          "name": "stdout"
        }
      ]
    },
    {
      "cell_type": "markdown",
      "metadata": {
        "id": "lB47TAh96rTi"
      },
      "source": [
        "## 6 - Faça um Programa que leia três números e mostre o maior deles.\n",
        "\n",
        "\n",
        "```\n",
        "# Isto está formatado como código\n",
        "```\n",
        "\n"
      ]
    },
    {
      "cell_type": "code",
      "metadata": {
        "colab": {
          "base_uri": "https://localhost:8080/"
        },
        "id": "S_mxdXUy6xb5",
        "outputId": "dede6410-2b58-4b31-b3d7-9e3c7c438e14"
      },
      "source": [
        "n1 = int(input(\"Digite o primeiro numero\"))\n",
        "n2 = int(input(\"Digite o segundo numero\"))\n",
        "n3 = int(input(\"Digite o terceiro numero\"))\n",
        "\n",
        "if n1 > n2 > n3:\n",
        "  print(\"Esse e o maior numero: \",n1)\n",
        "\n",
        "if n2 > n1 > n3:\n",
        "  print(\"Esse e o maior numero: \",n2)\n",
        "\n",
        "if n3 > n2 > n1:\n",
        "  print(\"Esse e o maior numero: \",n3)\n",
        "\n"
      ],
      "execution_count": 36,
      "outputs": [
        {
          "output_type": "stream",
          "text": [
            "Digite o primeiro numero4\n",
            "Digite o segundo numero7\n",
            "Digite o terceiro numero8\n",
            "Esse e o maior numero:  8\n"
          ],
          "name": "stdout"
        }
      ]
    }
  ]
}